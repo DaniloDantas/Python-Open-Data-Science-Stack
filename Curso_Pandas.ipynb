{
  "nbformat": 4,
  "nbformat_minor": 0,
  "metadata": {
    "colab": {
      "name": "Curso_Pandas.ipynb",
      "provenance": [],
      "toc_visible": true,
      "mount_file_id": "1GaivLEizGPPmIMqRVY7NMwIULSNdV_9o",
      "authorship_tag": "ABX9TyN5yBlx1ofH28ZWfSJz364L"
    },
    "kernelspec": {
      "name": "python3",
      "display_name": "Python 3"
    },
    "language_info": {
      "name": "python"
    }
  },
  "cells": [
    {
      "cell_type": "markdown",
      "metadata": {
        "id": "r4QOEpzuvFZB"
      },
      "source": [
        "## **Breve resumo sobre o Pandas**"
      ]
    },
    {
      "cell_type": "markdown",
      "metadata": {
        "id": "DZL_rYp7vUwn"
      },
      "source": [
        "![1200px-Pandas_logo.svg.png](data:image/png;base64,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)"
      ]
    },
    {
      "cell_type": "markdown",
      "metadata": {
        "id": "T6s8C7eIvfwn"
      },
      "source": [
        "Esse Notebook é um breve resumo sobre a biblioteca Pandas, da linguagem Python.\n",
        "\n",
        "**O que é Pandas?**\n",
        "\n",
        "- Pandas é uma biblioteca criada para manipular de forma rápida e expressiva dados estruturados;\n",
        "- Por isso é uma das ferramentas principais para análise de dados no Python Open Data Science Stack;\n",
        "- Os 02 principais objetos são: **Series** e **Dataframe**. Tal objetos permite manipulação de dados em séries temporais de alta perfomance, principalmente para *manipulação de dados financeiros*."
      ]
    },
    {
      "cell_type": "markdown",
      "metadata": {
        "id": "AI-91XdPwcRx"
      },
      "source": [
        "## **Importação**"
      ]
    },
    {
      "cell_type": "code",
      "metadata": {
        "id": "L2Oyf9yTwj13"
      },
      "source": [
        "import pandas as pd"
      ],
      "execution_count": null,
      "outputs": []
    },
    {
      "cell_type": "markdown",
      "metadata": {
        "id": "PFD6DrbGcayc"
      },
      "source": [
        "## **Criando DataFrame**"
      ]
    },
    {
      "cell_type": "markdown",
      "metadata": {
        "id": "NOMygDOPx6ZF"
      },
      "source": [
        "- Dataframe é um conjunto de séries, uma tabela, ou uma matriz. Depende da dimensão."
      ]
    },
    {
      "cell_type": "code",
      "metadata": {
        "id": "O5Zc-Kf5cf3N"
      },
      "source": [
        "df = pd.DataFrame({'Yes': [10,20], 'No': [15,25]})"
      ],
      "execution_count": null,
      "outputs": []
    },
    {
      "cell_type": "code",
      "metadata": {
        "id": "OG0jloPkwfu6"
      },
      "source": [
        "df"
      ],
      "execution_count": null,
      "outputs": []
    },
    {
      "cell_type": "code",
      "metadata": {
        "id": "WnKZXA3JwsSe"
      },
      "source": [
        "df1 = pd.DataFrame({'Dan':['Sim','Não'],'Lila':['Não','Sim']})"
      ],
      "execution_count": null,
      "outputs": []
    },
    {
      "cell_type": "code",
      "metadata": {
        "id": "ACQ2SE6sw5uu"
      },
      "source": [
        "df1"
      ],
      "execution_count": null,
      "outputs": []
    },
    {
      "cell_type": "markdown",
      "metadata": {
        "id": "MXErqff0xadg"
      },
      "source": [
        "## **Criando os Índices**"
      ]
    },
    {
      "cell_type": "markdown",
      "metadata": {
        "id": "jI7TWnOFyFtH"
      },
      "source": [
        "- Atribuindo os rótulos (labels) ou Índices ao dataframe, já na criação do dataframe, usando o index:\n",
        "\n",
        "```\n",
        "index = [a,b]\n",
        "```\n",
        "\n"
      ]
    },
    {
      "cell_type": "code",
      "metadata": {
        "id": "l2XQBvBYxgHt"
      },
      "source": [
        "df2 = pd.DataFrame({'Dan':['Sim','Não'],'Lila':['Não','Sim']}, index = ['Produto A', 'Produto B'])"
      ],
      "execution_count": null,
      "outputs": []
    },
    {
      "cell_type": "code",
      "metadata": {
        "id": "OuKPmR8Exyt2"
      },
      "source": [
        "df2"
      ],
      "execution_count": null,
      "outputs": []
    },
    {
      "cell_type": "markdown",
      "metadata": {
        "id": "4F8raHb0JFHJ"
      },
      "source": [
        "## **Configurando os Índices**"
      ]
    },
    {
      "cell_type": "markdown",
      "metadata": {
        "id": "Qj_cbVGjJLxW"
      },
      "source": [
        "- Os índices não são imutáveis, e por isso podem ser manipulados usando o ```set_index```."
      ]
    },
    {
      "cell_type": "code",
      "metadata": {
        "id": "TZaBomxDJgdH"
      },
      "source": [
        "reviews.set_index('title')"
      ],
      "execution_count": null,
      "outputs": []
    },
    {
      "cell_type": "markdown",
      "metadata": {
        "id": "gVLJSGHdyleW"
      },
      "source": [
        "## **Séries**"
      ]
    },
    {
      "cell_type": "markdown",
      "metadata": {
        "id": "SHdF5nnXyofN"
      },
      "source": [
        "- Séries são listas com conjunto de valores. É basicamente uma única coluna de um dataframe."
      ]
    },
    {
      "cell_type": "code",
      "metadata": {
        "id": "wdqJ_ekPzNuc"
      },
      "source": [
        "serie1 = pd.Series([1,2,3,4,5])\n",
        "serie1"
      ],
      "execution_count": null,
      "outputs": []
    },
    {
      "cell_type": "markdown",
      "metadata": {
        "id": "N9rTcIvezmd8"
      },
      "source": [
        "**Atribuindo Índices:**"
      ]
    },
    {
      "cell_type": "code",
      "metadata": {
        "id": "Buuc-7gIzqLX"
      },
      "source": [
        "serie2 = pd.Series([1,2,3,4,5], index = ['A','B','C','D','E'])\n",
        "serie2"
      ],
      "execution_count": null,
      "outputs": []
    },
    {
      "cell_type": "code",
      "metadata": {
        "id": "0-Bo8KCk0fbs"
      },
      "source": [
        ""
      ],
      "execution_count": null,
      "outputs": []
    },
    {
      "cell_type": "markdown",
      "metadata": {
        "id": "PT1AiiNZ0ggc"
      },
      "source": [
        "## **Lendo um arquivo CSV**"
      ]
    },
    {
      "cell_type": "markdown",
      "metadata": {
        "id": "qPpX4fpq09W0"
      },
      "source": [
        "A partir de agora trabalharemos com um dataset disponibilizado pelo Kaggle para estudos.\n",
        "\n",
        "Para leitura do arquivo csv usaremos a função:\n",
        "```\n",
        "pd.read_csv()\n",
        "```\n",
        "\n"
      ]
    },
    {
      "cell_type": "code",
      "metadata": {
        "id": "uC-TLYTQ0oUj"
      },
      "source": [
        "wine_reviews = pd.read_csv(\"/content/drive/MyDrive/Colab Notebooks/Dataset/winemag-data-130k-v2.csv\", index_col=0)"
      ],
      "execution_count": null,
      "outputs": []
    },
    {
      "cell_type": "code",
      "metadata": {
        "id": "81V45SBg2iK8"
      },
      "source": [
        "wine_reviews.head()"
      ],
      "execution_count": null,
      "outputs": []
    },
    {
      "cell_type": "markdown",
      "metadata": {
        "id": "L3Qreq9z1u1c"
      },
      "source": [
        "## **Sumarização com** shape"
      ]
    },
    {
      "cell_type": "markdown",
      "metadata": {
        "id": "ksloL94A12cG"
      },
      "source": [
        "Usamos o ``` shape ``` para verificar o tamanho do nosso dataset\n",
        "\n"
      ]
    },
    {
      "cell_type": "code",
      "metadata": {
        "id": "zZtMVeXF1zZb"
      },
      "source": [
        "wine_reviews.shape"
      ],
      "execution_count": null,
      "outputs": []
    },
    {
      "cell_type": "markdown",
      "metadata": {
        "id": "LSD92rof2NeL"
      },
      "source": [
        "- Como podemos notar, o dataset tem 14 atributos e apróximadamente 130 mil linhas. São cerca de 2 milhões de registros."
      ]
    },
    {
      "cell_type": "markdown",
      "metadata": {
        "id": "uFHQer8625iF"
      },
      "source": [
        "## **Selecionando Colunas**"
      ]
    },
    {
      "cell_type": "markdown",
      "metadata": {
        "id": "63jNjlbP3haq"
      },
      "source": [
        "- Podemos acessar a propriedade de um objeto chamando - o como um atributo.\n",
        "Por exemplo:\n",
        "```\n",
        "book.title\n",
        "```\n",
        "\n"
      ]
    },
    {
      "cell_type": "code",
      "metadata": {
        "id": "7MVEA8R43I3S"
      },
      "source": [
        "reviews = wine_reviews"
      ],
      "execution_count": null,
      "outputs": []
    },
    {
      "cell_type": "code",
      "metadata": {
        "id": "l5C-H74U34Wh"
      },
      "source": [
        "reviews"
      ],
      "execution_count": null,
      "outputs": []
    },
    {
      "cell_type": "code",
      "metadata": {
        "id": "mGF2Wzjn38UF"
      },
      "source": [
        "# Acessando a coluna país:\n",
        "\n",
        "reviews.country"
      ],
      "execution_count": null,
      "outputs": []
    },
    {
      "cell_type": "markdown",
      "metadata": {
        "id": "BW-6JDNd4qPY"
      },
      "source": [
        "Podemos ainda acessar os valores que se parecem com dicionário usando o ```[ ] ```. \n",
        "\n"
      ]
    },
    {
      "cell_type": "code",
      "metadata": {
        "colab": {
          "base_uri": "https://localhost:8080/",
          "height": 35
        },
        "id": "-B3m7q9S41rD",
        "outputId": "a4cce2a6-5302-410b-f064-8da837d32e4f"
      },
      "source": [
        "reviews['country'][0]"
      ],
      "execution_count": null,
      "outputs": [
        {
          "output_type": "execute_result",
          "data": {
            "application/vnd.google.colaboratory.intrinsic+json": {
              "type": "string"
            },
            "text/plain": [
              "'Italy'"
            ]
          },
          "metadata": {},
          "execution_count": 23
        }
      ]
    },
    {
      "cell_type": "markdown",
      "metadata": {
        "id": "bUGRpTLa489N"
      },
      "source": [
        "### **Seleção Avançada:**"
      ]
    },
    {
      "cell_type": "markdown",
      "metadata": {
        "id": "MjQGd7QV6wf7"
      },
      "source": [
        "Para acessar e fazer seleção dos valores usaremos o: ```loc``` e o ```iloc```.\n",
        "\n",
        "- Para **seleção baseado em índices**, usaremos o ```iloc```. Pois o ```iloc``` nos permite a seleção dos valores com base na sua posição númerica.\n",
        "\n",
        "- Para **seleção baseada em rótulos**, usaremos o ```loc```. Nesse caso é o valor, o rótulo do índice e não a sua posição  que importa.\n",
        "\n"
      ]
    },
    {
      "cell_type": "code",
      "metadata": {
        "id": "2lTgcuDm8Agf"
      },
      "source": [
        "reviews.head()"
      ],
      "execution_count": null,
      "outputs": []
    },
    {
      "cell_type": "code",
      "metadata": {
        "id": "Cjb63XS18ETA"
      },
      "source": [
        "#Selecionando tudo que está no índice 0;\n",
        "\n",
        "reviews.iloc[0]"
      ],
      "execution_count": null,
      "outputs": []
    },
    {
      "cell_type": "markdown",
      "metadata": {
        "id": "bOQlRC4r8zVo"
      },
      "source": [
        "- Tanto o ```loc```como o ``ìloc```consideram primeiro a linha e depois a coluna. No código abaixo iremos selecionar todas as linhas da coluna [0], que é País."
      ]
    },
    {
      "cell_type": "code",
      "metadata": {
        "id": "zTQTLiqB8OX1"
      },
      "source": [
        "reviews.iloc[:,0]"
      ],
      "execution_count": null,
      "outputs": []
    },
    {
      "cell_type": "markdown",
      "metadata": {
        "id": "2HViSMFZ9IBt"
      },
      "source": [
        "Para selecionar apenas Italia, Portugal e Estados Unidos (As 03 primeiras linha) usaremos o exempo abaixo:"
      ]
    },
    {
      "cell_type": "code",
      "metadata": {
        "id": "kzR8mas59D3d"
      },
      "source": [
        "reviews.iloc[:3,0]"
      ],
      "execution_count": null,
      "outputs": []
    },
    {
      "cell_type": "markdown",
      "metadata": {
        "id": "k_KEdzfE9nkP"
      },
      "source": [
        "Para selecionar os 5 últimos elementos, faríamos:"
      ]
    },
    {
      "cell_type": "code",
      "metadata": {
        "id": "OdzLAsiV9tSN"
      },
      "source": [
        "reviews.iloc[-5:]"
      ],
      "execution_count": null,
      "outputs": []
    },
    {
      "cell_type": "markdown",
      "metadata": {
        "id": "cyjLjGrVH3Pv"
      },
      "source": [
        "**Usando** o ```loc```"
      ]
    },
    {
      "cell_type": "code",
      "metadata": {
        "id": "25BsLHPwH8jW"
      },
      "source": [
        "# Usando o loc para selecionar a 1ª entrada\n",
        "# Da coluna country\n",
        "\n",
        "reviews.loc[0,'country']"
      ],
      "execution_count": null,
      "outputs": []
    },
    {
      "cell_type": "code",
      "metadata": {
        "id": "7InPfQ0nIQ72"
      },
      "source": [
        "# Criando um subdataset com slice\n",
        "# Usando Loc\n",
        "\n",
        "sub = reviews.loc[:, ['taster_name', 'taster_twitter_handle', 'points']]\n",
        "sub"
      ],
      "execution_count": null,
      "outputs": []
    },
    {
      "cell_type": "code",
      "metadata": {
        "id": "zn76B74XIsR1"
      },
      "source": [
        ""
      ],
      "execution_count": null,
      "outputs": []
    },
    {
      "cell_type": "markdown",
      "metadata": {
        "id": "tbs98v_rJy78"
      },
      "source": [
        "### **Seleção Condicionais**"
      ]
    },
    {
      "cell_type": "markdown",
      "metadata": {
        "id": "6P34zDHQJ6ul"
      },
      "source": [
        "- São formas de realizarmos a seleção das colunas de acordo com o uso dos operadores condicionais."
      ]
    },
    {
      "cell_type": "code",
      "metadata": {
        "colab": {
          "base_uri": "https://localhost:8080/"
        },
        "id": "uLsQJhUtJ2f1",
        "outputId": "b8ea14e2-de44-48ed-f11f-15be95e68ea0"
      },
      "source": [
        "reviews.country == 'Italy'"
      ],
      "execution_count": null,
      "outputs": [
        {
          "output_type": "execute_result",
          "data": {
            "text/plain": [
              "0          True\n",
              "1         False\n",
              "2         False\n",
              "3         False\n",
              "4         False\n",
              "          ...  \n",
              "129966    False\n",
              "129967    False\n",
              "129968    False\n",
              "129969    False\n",
              "129970    False\n",
              "Name: country, Length: 129971, dtype: bool"
            ]
          },
          "metadata": {},
          "execution_count": 37
        }
      ]
    },
    {
      "cell_type": "code",
      "metadata": {
        "id": "xkWy73QLKHjP"
      },
      "source": [
        "reviews.loc[reviews.country == 'Italy']"
      ],
      "execution_count": null,
      "outputs": []
    },
    {
      "cell_type": "code",
      "metadata": {
        "id": "L6lGfY3ZKewN"
      },
      "source": [
        "reviews.loc[(reviews.country == 'Italy') & (reviews.points >= 90)]"
      ],
      "execution_count": null,
      "outputs": []
    },
    {
      "cell_type": "markdown",
      "metadata": {
        "id": "6xS_co8AK6rN"
      },
      "source": [
        "- Seleção com ```isin``` permite selecionar valores que \"está em\".\n",
        "\n",
        "- Seleção com ```isnull``` permite selecionar valores nulos."
      ]
    },
    {
      "cell_type": "code",
      "metadata": {
        "id": "WpN6hcl4KsPd"
      },
      "source": [
        "reviews.loc[reviews.country.isin(['Italy','France'])]"
      ],
      "execution_count": null,
      "outputs": []
    },
    {
      "cell_type": "code",
      "metadata": {
        "id": "EenbYhY8LoDE"
      },
      "source": [
        "reviews.loc[reviews.price.isnull()]"
      ],
      "execution_count": null,
      "outputs": []
    },
    {
      "cell_type": "markdown",
      "metadata": {
        "id": "KxBI_FysCJ6c"
      },
      "source": [
        "## **Funções de Resumo**"
      ]
    },
    {
      "cell_type": "markdown",
      "metadata": {
        "id": "gN_bI-krC3W5"
      },
      "source": [
        "- Nas funções de resumos temos o ```describe()```, ```mean()```,```unique()```que nos mostram um breve resumo sobre o nosso dataset."
      ]
    },
    {
      "cell_type": "code",
      "metadata": {
        "colab": {
          "base_uri": "https://localhost:8080/"
        },
        "id": "qbC7c64-C2uN",
        "outputId": "02109063-46a4-4b01-ab40-ff8d6c8c335d"
      },
      "source": [
        "reviews.points.describe()"
      ],
      "execution_count": null,
      "outputs": [
        {
          "output_type": "execute_result",
          "data": {
            "text/plain": [
              "count    129971.000000\n",
              "mean         88.447138\n",
              "std           3.039730\n",
              "min          80.000000\n",
              "25%          86.000000\n",
              "50%          88.000000\n",
              "75%          91.000000\n",
              "max         100.000000\n",
              "Name: points, dtype: float64"
            ]
          },
          "metadata": {},
          "execution_count": 4
        }
      ]
    },
    {
      "cell_type": "code",
      "metadata": {
        "colab": {
          "base_uri": "https://localhost:8080/"
        },
        "id": "5CRFnTzVDl2r",
        "outputId": "31f033b4-054c-46b4-c277-f537d1f72b3b"
      },
      "source": [
        "reviews.taster_name.describe()"
      ],
      "execution_count": null,
      "outputs": [
        {
          "output_type": "execute_result",
          "data": {
            "text/plain": [
              "count         103727\n",
              "unique            19\n",
              "top       Roger Voss\n",
              "freq           25514\n",
              "Name: taster_name, dtype: object"
            ]
          },
          "metadata": {},
          "execution_count": 5
        }
      ]
    },
    {
      "cell_type": "code",
      "metadata": {
        "colab": {
          "base_uri": "https://localhost:8080/"
        },
        "id": "jNLUoA3HDt2L",
        "outputId": "4f290057-e273-47dc-e3ed-64f0e00de9db"
      },
      "source": [
        "reviews.points.mean()"
      ],
      "execution_count": null,
      "outputs": [
        {
          "output_type": "execute_result",
          "data": {
            "text/plain": [
              "88.44713820775404"
            ]
          },
          "metadata": {},
          "execution_count": 7
        }
      ]
    },
    {
      "cell_type": "code",
      "metadata": {
        "colab": {
          "base_uri": "https://localhost:8080/"
        },
        "id": "Tu0aIA1cD8h6",
        "outputId": "1e767ab7-abe7-48ff-f748-e203dc863044"
      },
      "source": [
        "reviews.taster_name.unique()"
      ],
      "execution_count": null,
      "outputs": [
        {
          "output_type": "execute_result",
          "data": {
            "text/plain": [
              "array(['Kerin O’Keefe', 'Roger Voss', 'Paul Gregutt',\n",
              "       'Alexander Peartree', 'Michael Schachner', 'Anna Lee C. Iijima',\n",
              "       'Virginie Boone', 'Matt Kettmann', nan, 'Sean P. Sullivan',\n",
              "       'Jim Gordon', 'Joe Czerwinski', 'Anne Krebiehl\\xa0MW',\n",
              "       'Lauren Buzzeo', 'Mike DeSimone', 'Jeff Jenssen',\n",
              "       'Susan Kostrzewa', 'Carrie Dykes', 'Fiona Adams',\n",
              "       'Christina Pickard'], dtype=object)"
            ]
          },
          "metadata": {},
          "execution_count": 10
        }
      ]
    },
    {
      "cell_type": "markdown",
      "metadata": {
        "id": "VUAU6C-cEdJM"
      },
      "source": [
        "A função ```value_count```mostra os valores únicos e com que frequência eles ocorrem."
      ]
    },
    {
      "cell_type": "code",
      "metadata": {
        "colab": {
          "base_uri": "https://localhost:8080/"
        },
        "id": "zaOkZJHUEAly",
        "outputId": "cfa970d5-c032-4e1f-ec41-ff50a939cb88"
      },
      "source": [
        "reviews.taster_name.value_counts()"
      ],
      "execution_count": null,
      "outputs": [
        {
          "output_type": "execute_result",
          "data": {
            "text/plain": [
              "Roger Voss            25514\n",
              "Michael Schachner     15134\n",
              "Kerin O’Keefe         10776\n",
              "Virginie Boone         9537\n",
              "Paul Gregutt           9532\n",
              "Matt Kettmann          6332\n",
              "Joe Czerwinski         5147\n",
              "Sean P. Sullivan       4966\n",
              "Anna Lee C. Iijima     4415\n",
              "Jim Gordon             4177\n",
              "Anne Krebiehl MW       3685\n",
              "Lauren Buzzeo          1835\n",
              "Susan Kostrzewa        1085\n",
              "Mike DeSimone           514\n",
              "Jeff Jenssen            491\n",
              "Alexander Peartree      415\n",
              "Carrie Dykes            139\n",
              "Fiona Adams              27\n",
              "Christina Pickard         6\n",
              "Name: taster_name, dtype: int64"
            ]
          },
          "metadata": {},
          "execution_count": 12
        }
      ]
    },
    {
      "cell_type": "markdown",
      "metadata": {
        "id": "RYNNYAnSkonb"
      },
      "source": [
        "### **Mapeamento - função de resumo**"
      ]
    },
    {
      "cell_type": "markdown",
      "metadata": {
        "id": "01dlAB6w2Tnm"
      },
      "source": [
        "A função ```map()``` Mapeia a utilização de uma outra função para um conjunto de dados já definido."
      ]
    },
    {
      "cell_type": "code",
      "metadata": {
        "id": "GYL_WbAkEZ86"
      },
      "source": [
        "review_points_mean = reviews.points.mean()\n",
        "reviews.points.map(lambda p: p - review_points_mean)"
      ],
      "execution_count": null,
      "outputs": []
    },
    {
      "cell_type": "markdown",
      "metadata": {
        "id": "lIhVWNLkn9Ep"
      },
      "source": [
        "## **Agrupamento e Seleção**"
      ]
    },
    {
      "cell_type": "code",
      "metadata": {
        "id": "LkvKXYgqoihh"
      },
      "source": [
        "reviews.groupby('points').points.count()"
      ],
      "execution_count": null,
      "outputs": []
    },
    {
      "cell_type": "markdown",
      "metadata": {
        "id": "R0kB__mOo4HK"
      },
      "source": [
        "- Podemos usar qualquer uma das funções de resumos com o ```groupby()```.\n",
        "Por exemplo, para saber os vinhos mais baratos faremos:"
      ]
    },
    {
      "cell_type": "code",
      "metadata": {
        "id": "JY85jTpKo3xS"
      },
      "source": [
        "reviews.groupby('points').price.min()"
      ],
      "execution_count": null,
      "outputs": []
    },
    {
      "cell_type": "markdown",
      "metadata": {
        "id": "SRLkyFBeprNK"
      },
      "source": [
        "Realizando um simples resumo estatístico com o ```agg()```"
      ]
    },
    {
      "cell_type": "code",
      "metadata": {
        "colab": {
          "base_uri": "https://localhost:8080/",
          "height": 1000
        },
        "id": "5bS1H3xLpyTH",
        "outputId": "9f3ef349-2e6f-4649-f56d-ee83ce0ed78f"
      },
      "source": [
        "reviews.groupby(['country']).price.agg([len, min, max])"
      ],
      "execution_count": null,
      "outputs": [
        {
          "output_type": "execute_result",
          "data": {
            "text/html": [
              "<div>\n",
              "<style scoped>\n",
              "    .dataframe tbody tr th:only-of-type {\n",
              "        vertical-align: middle;\n",
              "    }\n",
              "\n",
              "    .dataframe tbody tr th {\n",
              "        vertical-align: top;\n",
              "    }\n",
              "\n",
              "    .dataframe thead th {\n",
              "        text-align: right;\n",
              "    }\n",
              "</style>\n",
              "<table border=\"1\" class=\"dataframe\">\n",
              "  <thead>\n",
              "    <tr style=\"text-align: right;\">\n",
              "      <th></th>\n",
              "      <th>len</th>\n",
              "      <th>min</th>\n",
              "      <th>max</th>\n",
              "    </tr>\n",
              "    <tr>\n",
              "      <th>country</th>\n",
              "      <th></th>\n",
              "      <th></th>\n",
              "      <th></th>\n",
              "    </tr>\n",
              "  </thead>\n",
              "  <tbody>\n",
              "    <tr>\n",
              "      <th>Argentina</th>\n",
              "      <td>3800.0</td>\n",
              "      <td>4.0</td>\n",
              "      <td>230.0</td>\n",
              "    </tr>\n",
              "    <tr>\n",
              "      <th>Armenia</th>\n",
              "      <td>2.0</td>\n",
              "      <td>14.0</td>\n",
              "      <td>15.0</td>\n",
              "    </tr>\n",
              "    <tr>\n",
              "      <th>Australia</th>\n",
              "      <td>2329.0</td>\n",
              "      <td>5.0</td>\n",
              "      <td>850.0</td>\n",
              "    </tr>\n",
              "    <tr>\n",
              "      <th>Austria</th>\n",
              "      <td>3345.0</td>\n",
              "      <td>7.0</td>\n",
              "      <td>1100.0</td>\n",
              "    </tr>\n",
              "    <tr>\n",
              "      <th>Bosnia and Herzegovina</th>\n",
              "      <td>2.0</td>\n",
              "      <td>12.0</td>\n",
              "      <td>13.0</td>\n",
              "    </tr>\n",
              "    <tr>\n",
              "      <th>Brazil</th>\n",
              "      <td>52.0</td>\n",
              "      <td>10.0</td>\n",
              "      <td>60.0</td>\n",
              "    </tr>\n",
              "    <tr>\n",
              "      <th>Bulgaria</th>\n",
              "      <td>141.0</td>\n",
              "      <td>8.0</td>\n",
              "      <td>100.0</td>\n",
              "    </tr>\n",
              "    <tr>\n",
              "      <th>Canada</th>\n",
              "      <td>257.0</td>\n",
              "      <td>12.0</td>\n",
              "      <td>120.0</td>\n",
              "    </tr>\n",
              "    <tr>\n",
              "      <th>Chile</th>\n",
              "      <td>4472.0</td>\n",
              "      <td>5.0</td>\n",
              "      <td>400.0</td>\n",
              "    </tr>\n",
              "    <tr>\n",
              "      <th>China</th>\n",
              "      <td>1.0</td>\n",
              "      <td>18.0</td>\n",
              "      <td>18.0</td>\n",
              "    </tr>\n",
              "    <tr>\n",
              "      <th>Croatia</th>\n",
              "      <td>73.0</td>\n",
              "      <td>12.0</td>\n",
              "      <td>65.0</td>\n",
              "    </tr>\n",
              "    <tr>\n",
              "      <th>Cyprus</th>\n",
              "      <td>11.0</td>\n",
              "      <td>11.0</td>\n",
              "      <td>21.0</td>\n",
              "    </tr>\n",
              "    <tr>\n",
              "      <th>Czech Republic</th>\n",
              "      <td>12.0</td>\n",
              "      <td>15.0</td>\n",
              "      <td>45.0</td>\n",
              "    </tr>\n",
              "    <tr>\n",
              "      <th>Egypt</th>\n",
              "      <td>1.0</td>\n",
              "      <td>NaN</td>\n",
              "      <td>NaN</td>\n",
              "    </tr>\n",
              "    <tr>\n",
              "      <th>England</th>\n",
              "      <td>74.0</td>\n",
              "      <td>25.0</td>\n",
              "      <td>95.0</td>\n",
              "    </tr>\n",
              "    <tr>\n",
              "      <th>France</th>\n",
              "      <td>22093.0</td>\n",
              "      <td>5.0</td>\n",
              "      <td>3300.0</td>\n",
              "    </tr>\n",
              "    <tr>\n",
              "      <th>Georgia</th>\n",
              "      <td>86.0</td>\n",
              "      <td>9.0</td>\n",
              "      <td>40.0</td>\n",
              "    </tr>\n",
              "    <tr>\n",
              "      <th>Germany</th>\n",
              "      <td>2165.0</td>\n",
              "      <td>5.0</td>\n",
              "      <td>775.0</td>\n",
              "    </tr>\n",
              "    <tr>\n",
              "      <th>Greece</th>\n",
              "      <td>466.0</td>\n",
              "      <td>8.0</td>\n",
              "      <td>79.0</td>\n",
              "    </tr>\n",
              "    <tr>\n",
              "      <th>Hungary</th>\n",
              "      <td>146.0</td>\n",
              "      <td>10.0</td>\n",
              "      <td>764.0</td>\n",
              "    </tr>\n",
              "    <tr>\n",
              "      <th>India</th>\n",
              "      <td>9.0</td>\n",
              "      <td>10.0</td>\n",
              "      <td>20.0</td>\n",
              "    </tr>\n",
              "    <tr>\n",
              "      <th>Israel</th>\n",
              "      <td>505.0</td>\n",
              "      <td>8.0</td>\n",
              "      <td>150.0</td>\n",
              "    </tr>\n",
              "    <tr>\n",
              "      <th>Italy</th>\n",
              "      <td>19540.0</td>\n",
              "      <td>5.0</td>\n",
              "      <td>900.0</td>\n",
              "    </tr>\n",
              "    <tr>\n",
              "      <th>Lebanon</th>\n",
              "      <td>35.0</td>\n",
              "      <td>13.0</td>\n",
              "      <td>75.0</td>\n",
              "    </tr>\n",
              "    <tr>\n",
              "      <th>Luxembourg</th>\n",
              "      <td>6.0</td>\n",
              "      <td>16.0</td>\n",
              "      <td>30.0</td>\n",
              "    </tr>\n",
              "    <tr>\n",
              "      <th>Macedonia</th>\n",
              "      <td>12.0</td>\n",
              "      <td>15.0</td>\n",
              "      <td>20.0</td>\n",
              "    </tr>\n",
              "    <tr>\n",
              "      <th>Mexico</th>\n",
              "      <td>70.0</td>\n",
              "      <td>8.0</td>\n",
              "      <td>108.0</td>\n",
              "    </tr>\n",
              "    <tr>\n",
              "      <th>Moldova</th>\n",
              "      <td>59.0</td>\n",
              "      <td>8.0</td>\n",
              "      <td>42.0</td>\n",
              "    </tr>\n",
              "    <tr>\n",
              "      <th>Morocco</th>\n",
              "      <td>28.0</td>\n",
              "      <td>14.0</td>\n",
              "      <td>40.0</td>\n",
              "    </tr>\n",
              "    <tr>\n",
              "      <th>New Zealand</th>\n",
              "      <td>1419.0</td>\n",
              "      <td>7.0</td>\n",
              "      <td>130.0</td>\n",
              "    </tr>\n",
              "    <tr>\n",
              "      <th>Peru</th>\n",
              "      <td>16.0</td>\n",
              "      <td>10.0</td>\n",
              "      <td>68.0</td>\n",
              "    </tr>\n",
              "    <tr>\n",
              "      <th>Portugal</th>\n",
              "      <td>5691.0</td>\n",
              "      <td>5.0</td>\n",
              "      <td>1000.0</td>\n",
              "    </tr>\n",
              "    <tr>\n",
              "      <th>Romania</th>\n",
              "      <td>120.0</td>\n",
              "      <td>4.0</td>\n",
              "      <td>320.0</td>\n",
              "    </tr>\n",
              "    <tr>\n",
              "      <th>Serbia</th>\n",
              "      <td>12.0</td>\n",
              "      <td>15.0</td>\n",
              "      <td>42.0</td>\n",
              "    </tr>\n",
              "    <tr>\n",
              "      <th>Slovakia</th>\n",
              "      <td>1.0</td>\n",
              "      <td>16.0</td>\n",
              "      <td>16.0</td>\n",
              "    </tr>\n",
              "    <tr>\n",
              "      <th>Slovenia</th>\n",
              "      <td>87.0</td>\n",
              "      <td>7.0</td>\n",
              "      <td>90.0</td>\n",
              "    </tr>\n",
              "    <tr>\n",
              "      <th>South Africa</th>\n",
              "      <td>1401.0</td>\n",
              "      <td>5.0</td>\n",
              "      <td>330.0</td>\n",
              "    </tr>\n",
              "    <tr>\n",
              "      <th>Spain</th>\n",
              "      <td>6645.0</td>\n",
              "      <td>4.0</td>\n",
              "      <td>770.0</td>\n",
              "    </tr>\n",
              "    <tr>\n",
              "      <th>Switzerland</th>\n",
              "      <td>7.0</td>\n",
              "      <td>21.0</td>\n",
              "      <td>160.0</td>\n",
              "    </tr>\n",
              "    <tr>\n",
              "      <th>Turkey</th>\n",
              "      <td>90.0</td>\n",
              "      <td>14.0</td>\n",
              "      <td>120.0</td>\n",
              "    </tr>\n",
              "    <tr>\n",
              "      <th>US</th>\n",
              "      <td>54504.0</td>\n",
              "      <td>4.0</td>\n",
              "      <td>2013.0</td>\n",
              "    </tr>\n",
              "    <tr>\n",
              "      <th>Ukraine</th>\n",
              "      <td>14.0</td>\n",
              "      <td>6.0</td>\n",
              "      <td>13.0</td>\n",
              "    </tr>\n",
              "    <tr>\n",
              "      <th>Uruguay</th>\n",
              "      <td>109.0</td>\n",
              "      <td>10.0</td>\n",
              "      <td>130.0</td>\n",
              "    </tr>\n",
              "  </tbody>\n",
              "</table>\n",
              "</div>"
            ],
            "text/plain": [
              "                            len   min     max\n",
              "country                                      \n",
              "Argentina                3800.0   4.0   230.0\n",
              "Armenia                     2.0  14.0    15.0\n",
              "Australia                2329.0   5.0   850.0\n",
              "Austria                  3345.0   7.0  1100.0\n",
              "Bosnia and Herzegovina      2.0  12.0    13.0\n",
              "Brazil                     52.0  10.0    60.0\n",
              "Bulgaria                  141.0   8.0   100.0\n",
              "Canada                    257.0  12.0   120.0\n",
              "Chile                    4472.0   5.0   400.0\n",
              "China                       1.0  18.0    18.0\n",
              "Croatia                    73.0  12.0    65.0\n",
              "Cyprus                     11.0  11.0    21.0\n",
              "Czech Republic             12.0  15.0    45.0\n",
              "Egypt                       1.0   NaN     NaN\n",
              "England                    74.0  25.0    95.0\n",
              "France                  22093.0   5.0  3300.0\n",
              "Georgia                    86.0   9.0    40.0\n",
              "Germany                  2165.0   5.0   775.0\n",
              "Greece                    466.0   8.0    79.0\n",
              "Hungary                   146.0  10.0   764.0\n",
              "India                       9.0  10.0    20.0\n",
              "Israel                    505.0   8.0   150.0\n",
              "Italy                   19540.0   5.0   900.0\n",
              "Lebanon                    35.0  13.0    75.0\n",
              "Luxembourg                  6.0  16.0    30.0\n",
              "Macedonia                  12.0  15.0    20.0\n",
              "Mexico                     70.0   8.0   108.0\n",
              "Moldova                    59.0   8.0    42.0\n",
              "Morocco                    28.0  14.0    40.0\n",
              "New Zealand              1419.0   7.0   130.0\n",
              "Peru                       16.0  10.0    68.0\n",
              "Portugal                 5691.0   5.0  1000.0\n",
              "Romania                   120.0   4.0   320.0\n",
              "Serbia                     12.0  15.0    42.0\n",
              "Slovakia                    1.0  16.0    16.0\n",
              "Slovenia                   87.0   7.0    90.0\n",
              "South Africa             1401.0   5.0   330.0\n",
              "Spain                    6645.0   4.0   770.0\n",
              "Switzerland                 7.0  21.0   160.0\n",
              "Turkey                     90.0  14.0   120.0\n",
              "US                      54504.0   4.0  2013.0\n",
              "Ukraine                    14.0   6.0    13.0\n",
              "Uruguay                   109.0  10.0   130.0"
            ]
          },
          "metadata": {},
          "execution_count": 10
        }
      ]
    },
    {
      "cell_type": "markdown",
      "metadata": {
        "id": "nGf2BJpCqnqj"
      },
      "source": [
        "É muito comum ao fazer agrupamento com 2 ou mais colunas o dataframe se tornar *multi-index*, para isso requer uma função especial para converte-lo em um índice padrão, que é o ```reset_index()```"
      ]
    },
    {
      "cell_type": "code",
      "metadata": {
        "colab": {
          "base_uri": "https://localhost:8080/",
          "height": 455
        },
        "id": "U349Cyzlpx2Q",
        "outputId": "2df2dd60-b094-4f88-ad3b-5523ab803a41"
      },
      "source": [
        "countries_reviewed = reviews.groupby(['country', 'province']).description.agg([len])\n",
        "countries_reviewed"
      ],
      "execution_count": null,
      "outputs": [
        {
          "output_type": "execute_result",
          "data": {
            "text/html": [
              "<div>\n",
              "<style scoped>\n",
              "    .dataframe tbody tr th:only-of-type {\n",
              "        vertical-align: middle;\n",
              "    }\n",
              "\n",
              "    .dataframe tbody tr th {\n",
              "        vertical-align: top;\n",
              "    }\n",
              "\n",
              "    .dataframe thead th {\n",
              "        text-align: right;\n",
              "    }\n",
              "</style>\n",
              "<table border=\"1\" class=\"dataframe\">\n",
              "  <thead>\n",
              "    <tr style=\"text-align: right;\">\n",
              "      <th></th>\n",
              "      <th></th>\n",
              "      <th>len</th>\n",
              "    </tr>\n",
              "    <tr>\n",
              "      <th>country</th>\n",
              "      <th>province</th>\n",
              "      <th></th>\n",
              "    </tr>\n",
              "  </thead>\n",
              "  <tbody>\n",
              "    <tr>\n",
              "      <th rowspan=\"2\" valign=\"top\">Argentina</th>\n",
              "      <th>Mendoza Province</th>\n",
              "      <td>3264</td>\n",
              "    </tr>\n",
              "    <tr>\n",
              "      <th>Other</th>\n",
              "      <td>536</td>\n",
              "    </tr>\n",
              "    <tr>\n",
              "      <th>Armenia</th>\n",
              "      <th>Armenia</th>\n",
              "      <td>2</td>\n",
              "    </tr>\n",
              "    <tr>\n",
              "      <th rowspan=\"2\" valign=\"top\">Australia</th>\n",
              "      <th>Australia Other</th>\n",
              "      <td>245</td>\n",
              "    </tr>\n",
              "    <tr>\n",
              "      <th>New South Wales</th>\n",
              "      <td>85</td>\n",
              "    </tr>\n",
              "    <tr>\n",
              "      <th>...</th>\n",
              "      <th>...</th>\n",
              "      <td>...</td>\n",
              "    </tr>\n",
              "    <tr>\n",
              "      <th rowspan=\"5\" valign=\"top\">Uruguay</th>\n",
              "      <th>Juanico</th>\n",
              "      <td>12</td>\n",
              "    </tr>\n",
              "    <tr>\n",
              "      <th>Montevideo</th>\n",
              "      <td>11</td>\n",
              "    </tr>\n",
              "    <tr>\n",
              "      <th>Progreso</th>\n",
              "      <td>11</td>\n",
              "    </tr>\n",
              "    <tr>\n",
              "      <th>San Jose</th>\n",
              "      <td>3</td>\n",
              "    </tr>\n",
              "    <tr>\n",
              "      <th>Uruguay</th>\n",
              "      <td>24</td>\n",
              "    </tr>\n",
              "  </tbody>\n",
              "</table>\n",
              "<p>425 rows × 1 columns</p>\n",
              "</div>"
            ],
            "text/plain": [
              "                             len\n",
              "country   province              \n",
              "Argentina Mendoza Province  3264\n",
              "          Other              536\n",
              "Armenia   Armenia              2\n",
              "Australia Australia Other    245\n",
              "          New South Wales     85\n",
              "...                          ...\n",
              "Uruguay   Juanico             12\n",
              "          Montevideo          11\n",
              "          Progreso            11\n",
              "          San Jose             3\n",
              "          Uruguay             24\n",
              "\n",
              "[425 rows x 1 columns]"
            ]
          },
          "metadata": {},
          "execution_count": 13
        }
      ]
    },
    {
      "cell_type": "code",
      "metadata": {
        "colab": {
          "base_uri": "https://localhost:8080/",
          "height": 423
        },
        "id": "0MuNgPNnrCwV",
        "outputId": "5da71996-c9a5-404e-efa4-bcbc50fea59b"
      },
      "source": [
        "countries_reviewed.reset_index()"
      ],
      "execution_count": null,
      "outputs": [
        {
          "output_type": "execute_result",
          "data": {
            "text/html": [
              "<div>\n",
              "<style scoped>\n",
              "    .dataframe tbody tr th:only-of-type {\n",
              "        vertical-align: middle;\n",
              "    }\n",
              "\n",
              "    .dataframe tbody tr th {\n",
              "        vertical-align: top;\n",
              "    }\n",
              "\n",
              "    .dataframe thead th {\n",
              "        text-align: right;\n",
              "    }\n",
              "</style>\n",
              "<table border=\"1\" class=\"dataframe\">\n",
              "  <thead>\n",
              "    <tr style=\"text-align: right;\">\n",
              "      <th></th>\n",
              "      <th>country</th>\n",
              "      <th>province</th>\n",
              "      <th>len</th>\n",
              "    </tr>\n",
              "  </thead>\n",
              "  <tbody>\n",
              "    <tr>\n",
              "      <th>0</th>\n",
              "      <td>Argentina</td>\n",
              "      <td>Mendoza Province</td>\n",
              "      <td>3264</td>\n",
              "    </tr>\n",
              "    <tr>\n",
              "      <th>1</th>\n",
              "      <td>Argentina</td>\n",
              "      <td>Other</td>\n",
              "      <td>536</td>\n",
              "    </tr>\n",
              "    <tr>\n",
              "      <th>2</th>\n",
              "      <td>Armenia</td>\n",
              "      <td>Armenia</td>\n",
              "      <td>2</td>\n",
              "    </tr>\n",
              "    <tr>\n",
              "      <th>3</th>\n",
              "      <td>Australia</td>\n",
              "      <td>Australia Other</td>\n",
              "      <td>245</td>\n",
              "    </tr>\n",
              "    <tr>\n",
              "      <th>4</th>\n",
              "      <td>Australia</td>\n",
              "      <td>New South Wales</td>\n",
              "      <td>85</td>\n",
              "    </tr>\n",
              "    <tr>\n",
              "      <th>...</th>\n",
              "      <td>...</td>\n",
              "      <td>...</td>\n",
              "      <td>...</td>\n",
              "    </tr>\n",
              "    <tr>\n",
              "      <th>420</th>\n",
              "      <td>Uruguay</td>\n",
              "      <td>Juanico</td>\n",
              "      <td>12</td>\n",
              "    </tr>\n",
              "    <tr>\n",
              "      <th>421</th>\n",
              "      <td>Uruguay</td>\n",
              "      <td>Montevideo</td>\n",
              "      <td>11</td>\n",
              "    </tr>\n",
              "    <tr>\n",
              "      <th>422</th>\n",
              "      <td>Uruguay</td>\n",
              "      <td>Progreso</td>\n",
              "      <td>11</td>\n",
              "    </tr>\n",
              "    <tr>\n",
              "      <th>423</th>\n",
              "      <td>Uruguay</td>\n",
              "      <td>San Jose</td>\n",
              "      <td>3</td>\n",
              "    </tr>\n",
              "    <tr>\n",
              "      <th>424</th>\n",
              "      <td>Uruguay</td>\n",
              "      <td>Uruguay</td>\n",
              "      <td>24</td>\n",
              "    </tr>\n",
              "  </tbody>\n",
              "</table>\n",
              "<p>425 rows × 3 columns</p>\n",
              "</div>"
            ],
            "text/plain": [
              "       country          province   len\n",
              "0    Argentina  Mendoza Province  3264\n",
              "1    Argentina             Other   536\n",
              "2      Armenia           Armenia     2\n",
              "3    Australia   Australia Other   245\n",
              "4    Australia   New South Wales    85\n",
              "..         ...               ...   ...\n",
              "420    Uruguay           Juanico    12\n",
              "421    Uruguay        Montevideo    11\n",
              "422    Uruguay          Progreso    11\n",
              "423    Uruguay          San Jose     3\n",
              "424    Uruguay           Uruguay    24\n",
              "\n",
              "[425 rows x 3 columns]"
            ]
          },
          "metadata": {},
          "execution_count": 14
        }
      ]
    },
    {
      "cell_type": "markdown",
      "metadata": {
        "id": "Xdr4soZErdPp"
      },
      "source": [
        "### **Seleção**"
      ]
    },
    {
      "cell_type": "code",
      "metadata": {
        "colab": {
          "base_uri": "https://localhost:8080/",
          "height": 423
        },
        "id": "6E_4ZJDnrGGY",
        "outputId": "8fabd642-24d1-4a5c-8d34-1c434a22ade0"
      },
      "source": [
        "countries_reviewed.sort_values(by='len', ascending=False)"
      ],
      "execution_count": null,
      "outputs": [
        {
          "output_type": "execute_result",
          "data": {
            "text/html": [
              "<div>\n",
              "<style scoped>\n",
              "    .dataframe tbody tr th:only-of-type {\n",
              "        vertical-align: middle;\n",
              "    }\n",
              "\n",
              "    .dataframe tbody tr th {\n",
              "        vertical-align: top;\n",
              "    }\n",
              "\n",
              "    .dataframe thead th {\n",
              "        text-align: right;\n",
              "    }\n",
              "</style>\n",
              "<table border=\"1\" class=\"dataframe\">\n",
              "  <thead>\n",
              "    <tr style=\"text-align: right;\">\n",
              "      <th></th>\n",
              "      <th>country</th>\n",
              "      <th>province</th>\n",
              "      <th>len</th>\n",
              "    </tr>\n",
              "  </thead>\n",
              "  <tbody>\n",
              "    <tr>\n",
              "      <th>392</th>\n",
              "      <td>US</td>\n",
              "      <td>California</td>\n",
              "      <td>36247</td>\n",
              "    </tr>\n",
              "    <tr>\n",
              "      <th>415</th>\n",
              "      <td>US</td>\n",
              "      <td>Washington</td>\n",
              "      <td>8639</td>\n",
              "    </tr>\n",
              "    <tr>\n",
              "      <th>118</th>\n",
              "      <td>France</td>\n",
              "      <td>Bordeaux</td>\n",
              "      <td>5941</td>\n",
              "    </tr>\n",
              "    <tr>\n",
              "      <th>227</th>\n",
              "      <td>Italy</td>\n",
              "      <td>Tuscany</td>\n",
              "      <td>5897</td>\n",
              "    </tr>\n",
              "    <tr>\n",
              "      <th>409</th>\n",
              "      <td>US</td>\n",
              "      <td>Oregon</td>\n",
              "      <td>5373</td>\n",
              "    </tr>\n",
              "    <tr>\n",
              "      <th>...</th>\n",
              "      <td>...</td>\n",
              "      <td>...</td>\n",
              "      <td>...</td>\n",
              "    </tr>\n",
              "    <tr>\n",
              "      <th>101</th>\n",
              "      <td>Croatia</td>\n",
              "      <td>Krk</td>\n",
              "      <td>1</td>\n",
              "    </tr>\n",
              "    <tr>\n",
              "      <th>247</th>\n",
              "      <td>New Zealand</td>\n",
              "      <td>Gladstone</td>\n",
              "      <td>1</td>\n",
              "    </tr>\n",
              "    <tr>\n",
              "      <th>357</th>\n",
              "      <td>South Africa</td>\n",
              "      <td>Piekenierskloof</td>\n",
              "      <td>1</td>\n",
              "    </tr>\n",
              "    <tr>\n",
              "      <th>63</th>\n",
              "      <td>Chile</td>\n",
              "      <td>Coelemu</td>\n",
              "      <td>1</td>\n",
              "    </tr>\n",
              "    <tr>\n",
              "      <th>149</th>\n",
              "      <td>Greece</td>\n",
              "      <td>Beotia</td>\n",
              "      <td>1</td>\n",
              "    </tr>\n",
              "  </tbody>\n",
              "</table>\n",
              "<p>425 rows × 3 columns</p>\n",
              "</div>"
            ],
            "text/plain": [
              "          country         province    len\n",
              "392            US       California  36247\n",
              "415            US       Washington   8639\n",
              "118        France         Bordeaux   5941\n",
              "227         Italy          Tuscany   5897\n",
              "409            US           Oregon   5373\n",
              "..            ...              ...    ...\n",
              "101       Croatia              Krk      1\n",
              "247   New Zealand        Gladstone      1\n",
              "357  South Africa  Piekenierskloof      1\n",
              "63          Chile          Coelemu      1\n",
              "149        Greece           Beotia      1\n",
              "\n",
              "[425 rows x 3 columns]"
            ]
          },
          "metadata": {},
          "execution_count": 16
        }
      ]
    },
    {
      "cell_type": "code",
      "metadata": {
        "colab": {
          "base_uri": "https://localhost:8080/",
          "height": 423
        },
        "id": "gZLNA-IirZRS",
        "outputId": "e8d696aa-f78d-452f-e19b-342ea8488636"
      },
      "source": [
        "countries_reviewed.sort_index()"
      ],
      "execution_count": null,
      "outputs": [
        {
          "output_type": "execute_result",
          "data": {
            "text/html": [
              "<div>\n",
              "<style scoped>\n",
              "    .dataframe tbody tr th:only-of-type {\n",
              "        vertical-align: middle;\n",
              "    }\n",
              "\n",
              "    .dataframe tbody tr th {\n",
              "        vertical-align: top;\n",
              "    }\n",
              "\n",
              "    .dataframe thead th {\n",
              "        text-align: right;\n",
              "    }\n",
              "</style>\n",
              "<table border=\"1\" class=\"dataframe\">\n",
              "  <thead>\n",
              "    <tr style=\"text-align: right;\">\n",
              "      <th></th>\n",
              "      <th>country</th>\n",
              "      <th>province</th>\n",
              "      <th>len</th>\n",
              "    </tr>\n",
              "  </thead>\n",
              "  <tbody>\n",
              "    <tr>\n",
              "      <th>0</th>\n",
              "      <td>Argentina</td>\n",
              "      <td>Mendoza Province</td>\n",
              "      <td>3264</td>\n",
              "    </tr>\n",
              "    <tr>\n",
              "      <th>1</th>\n",
              "      <td>Argentina</td>\n",
              "      <td>Other</td>\n",
              "      <td>536</td>\n",
              "    </tr>\n",
              "    <tr>\n",
              "      <th>2</th>\n",
              "      <td>Armenia</td>\n",
              "      <td>Armenia</td>\n",
              "      <td>2</td>\n",
              "    </tr>\n",
              "    <tr>\n",
              "      <th>3</th>\n",
              "      <td>Australia</td>\n",
              "      <td>Australia Other</td>\n",
              "      <td>245</td>\n",
              "    </tr>\n",
              "    <tr>\n",
              "      <th>4</th>\n",
              "      <td>Australia</td>\n",
              "      <td>New South Wales</td>\n",
              "      <td>85</td>\n",
              "    </tr>\n",
              "    <tr>\n",
              "      <th>...</th>\n",
              "      <td>...</td>\n",
              "      <td>...</td>\n",
              "      <td>...</td>\n",
              "    </tr>\n",
              "    <tr>\n",
              "      <th>420</th>\n",
              "      <td>Uruguay</td>\n",
              "      <td>Juanico</td>\n",
              "      <td>12</td>\n",
              "    </tr>\n",
              "    <tr>\n",
              "      <th>421</th>\n",
              "      <td>Uruguay</td>\n",
              "      <td>Montevideo</td>\n",
              "      <td>11</td>\n",
              "    </tr>\n",
              "    <tr>\n",
              "      <th>422</th>\n",
              "      <td>Uruguay</td>\n",
              "      <td>Progreso</td>\n",
              "      <td>11</td>\n",
              "    </tr>\n",
              "    <tr>\n",
              "      <th>423</th>\n",
              "      <td>Uruguay</td>\n",
              "      <td>San Jose</td>\n",
              "      <td>3</td>\n",
              "    </tr>\n",
              "    <tr>\n",
              "      <th>424</th>\n",
              "      <td>Uruguay</td>\n",
              "      <td>Uruguay</td>\n",
              "      <td>24</td>\n",
              "    </tr>\n",
              "  </tbody>\n",
              "</table>\n",
              "<p>425 rows × 3 columns</p>\n",
              "</div>"
            ],
            "text/plain": [
              "       country          province   len\n",
              "0    Argentina  Mendoza Province  3264\n",
              "1    Argentina             Other   536\n",
              "2      Armenia           Armenia     2\n",
              "3    Australia   Australia Other   245\n",
              "4    Australia   New South Wales    85\n",
              "..         ...               ...   ...\n",
              "420    Uruguay           Juanico    12\n",
              "421    Uruguay        Montevideo    11\n",
              "422    Uruguay          Progreso    11\n",
              "423    Uruguay          San Jose     3\n",
              "424    Uruguay           Uruguay    24\n",
              "\n",
              "[425 rows x 3 columns]"
            ]
          },
          "metadata": {},
          "execution_count": 17
        }
      ]
    },
    {
      "cell_type": "markdown",
      "metadata": {
        "id": "myjo-jtSyVJ4"
      },
      "source": [
        "## **Tipos de Dados e Valores Ausentes**"
      ]
    },
    {
      "cell_type": "markdown",
      "metadata": {
        "id": "YelQv1-SAPtz"
      },
      "source": [
        "Função ```dtype```"
      ]
    },
    {
      "cell_type": "code",
      "metadata": {
        "colab": {
          "base_uri": "https://localhost:8080/"
        },
        "id": "ull8F-QwyatQ",
        "outputId": "b8f6d518-d429-47a6-f1a4-84b9451e10c4"
      },
      "source": [
        "reviews.price.dtype"
      ],
      "execution_count": null,
      "outputs": [
        {
          "output_type": "execute_result",
          "data": {
            "text/plain": [
              "dtype('float64')"
            ]
          },
          "metadata": {},
          "execution_count": 18
        }
      ]
    },
    {
      "cell_type": "code",
      "metadata": {
        "colab": {
          "base_uri": "https://localhost:8080/"
        },
        "id": "riHutmuHAeqM",
        "outputId": "936e38d1-075c-4821-c95d-30a23a7df6d9"
      },
      "source": [
        "reviews.dtypes"
      ],
      "execution_count": null,
      "outputs": [
        {
          "output_type": "execute_result",
          "data": {
            "text/plain": [
              "country                   object\n",
              "description               object\n",
              "designation               object\n",
              "points                     int64\n",
              "price                    float64\n",
              "province                  object\n",
              "region_1                  object\n",
              "region_2                  object\n",
              "taster_name               object\n",
              "taster_twitter_handle     object\n",
              "title                     object\n",
              "variety                   object\n",
              "winery                    object\n",
              "dtype: object"
            ]
          },
          "metadata": {},
          "execution_count": 20
        }
      ]
    },
    {
      "cell_type": "code",
      "metadata": {
        "colab": {
          "base_uri": "https://localhost:8080/"
        },
        "id": "L1MVNc0mAvH-",
        "outputId": "a559b9da-f603-4fb1-a23d-16c70a6038f6"
      },
      "source": [
        "# Convertendo um tipo de dado\n",
        "\n",
        "reviews.points.astype('float64')"
      ],
      "execution_count": null,
      "outputs": [
        {
          "output_type": "execute_result",
          "data": {
            "text/plain": [
              "0         87.0\n",
              "1         87.0\n",
              "2         87.0\n",
              "3         87.0\n",
              "4         87.0\n",
              "          ... \n",
              "129966    90.0\n",
              "129967    90.0\n",
              "129968    90.0\n",
              "129969    90.0\n",
              "129970    90.0\n",
              "Name: points, Length: 129971, dtype: float64"
            ]
          },
          "metadata": {},
          "execution_count": 21
        }
      ]
    },
    {
      "cell_type": "code",
      "metadata": {
        "colab": {
          "base_uri": "https://localhost:8080/",
          "height": 1000
        },
        "id": "BOH_AkX9BBtz",
        "outputId": "c781fb74-cfb8-4f26-ac2e-2042ec6ae83b"
      },
      "source": [
        "# Valores Ausentes\n",
        "\n",
        "reviews[pd.isnull(reviews.country)]"
      ],
      "execution_count": null,
      "outputs": [
        {
          "output_type": "execute_result",
          "data": {
            "text/html": [
              "<div>\n",
              "<style scoped>\n",
              "    .dataframe tbody tr th:only-of-type {\n",
              "        vertical-align: middle;\n",
              "    }\n",
              "\n",
              "    .dataframe tbody tr th {\n",
              "        vertical-align: top;\n",
              "    }\n",
              "\n",
              "    .dataframe thead th {\n",
              "        text-align: right;\n",
              "    }\n",
              "</style>\n",
              "<table border=\"1\" class=\"dataframe\">\n",
              "  <thead>\n",
              "    <tr style=\"text-align: right;\">\n",
              "      <th></th>\n",
              "      <th>country</th>\n",
              "      <th>description</th>\n",
              "      <th>designation</th>\n",
              "      <th>points</th>\n",
              "      <th>price</th>\n",
              "      <th>province</th>\n",
              "      <th>region_1</th>\n",
              "      <th>region_2</th>\n",
              "      <th>taster_name</th>\n",
              "      <th>taster_twitter_handle</th>\n",
              "      <th>title</th>\n",
              "      <th>variety</th>\n",
              "      <th>winery</th>\n",
              "    </tr>\n",
              "  </thead>\n",
              "  <tbody>\n",
              "    <tr>\n",
              "      <th>913</th>\n",
              "      <td>NaN</td>\n",
              "      <td>Amber in color, this wine has aromas of peach ...</td>\n",
              "      <td>Asureti Valley</td>\n",
              "      <td>87</td>\n",
              "      <td>30.0</td>\n",
              "      <td>NaN</td>\n",
              "      <td>NaN</td>\n",
              "      <td>NaN</td>\n",
              "      <td>Mike DeSimone</td>\n",
              "      <td>@worldwineguys</td>\n",
              "      <td>Gotsa Family Wines 2014 Asureti Valley Chinuri</td>\n",
              "      <td>Chinuri</td>\n",
              "      <td>Gotsa Family Wines</td>\n",
              "    </tr>\n",
              "    <tr>\n",
              "      <th>3131</th>\n",
              "      <td>NaN</td>\n",
              "      <td>Soft, fruity and juicy, this is a pleasant, si...</td>\n",
              "      <td>Partager</td>\n",
              "      <td>83</td>\n",
              "      <td>NaN</td>\n",
              "      <td>NaN</td>\n",
              "      <td>NaN</td>\n",
              "      <td>NaN</td>\n",
              "      <td>Roger Voss</td>\n",
              "      <td>@vossroger</td>\n",
              "      <td>Barton &amp; Guestier NV Partager Red</td>\n",
              "      <td>Red Blend</td>\n",
              "      <td>Barton &amp; Guestier</td>\n",
              "    </tr>\n",
              "    <tr>\n",
              "      <th>4243</th>\n",
              "      <td>NaN</td>\n",
              "      <td>Violet-red in color, this semisweet wine has a...</td>\n",
              "      <td>Red Naturally Semi-Sweet</td>\n",
              "      <td>88</td>\n",
              "      <td>18.0</td>\n",
              "      <td>NaN</td>\n",
              "      <td>NaN</td>\n",
              "      <td>NaN</td>\n",
              "      <td>Mike DeSimone</td>\n",
              "      <td>@worldwineguys</td>\n",
              "      <td>Kakhetia Traditional Winemaking 2012 Red Natur...</td>\n",
              "      <td>Ojaleshi</td>\n",
              "      <td>Kakhetia Traditional Winemaking</td>\n",
              "    </tr>\n",
              "    <tr>\n",
              "      <th>9509</th>\n",
              "      <td>NaN</td>\n",
              "      <td>This mouthwatering blend starts with a nose of...</td>\n",
              "      <td>Theopetra Malagouzia-Assyrtiko</td>\n",
              "      <td>92</td>\n",
              "      <td>28.0</td>\n",
              "      <td>NaN</td>\n",
              "      <td>NaN</td>\n",
              "      <td>NaN</td>\n",
              "      <td>Susan Kostrzewa</td>\n",
              "      <td>@suskostrzewa</td>\n",
              "      <td>Tsililis 2015 Theopetra Malagouzia-Assyrtiko W...</td>\n",
              "      <td>White Blend</td>\n",
              "      <td>Tsililis</td>\n",
              "    </tr>\n",
              "    <tr>\n",
              "      <th>9750</th>\n",
              "      <td>NaN</td>\n",
              "      <td>This orange-style wine has a cloudy yellow-gol...</td>\n",
              "      <td>Orange Nikolaevo Vineyard</td>\n",
              "      <td>89</td>\n",
              "      <td>28.0</td>\n",
              "      <td>NaN</td>\n",
              "      <td>NaN</td>\n",
              "      <td>NaN</td>\n",
              "      <td>Jeff Jenssen</td>\n",
              "      <td>@worldwineguys</td>\n",
              "      <td>Ross-idi 2015 Orange Nikolaevo Vineyard Chardo...</td>\n",
              "      <td>Chardonnay</td>\n",
              "      <td>Ross-idi</td>\n",
              "    </tr>\n",
              "    <tr>\n",
              "      <th>...</th>\n",
              "      <td>...</td>\n",
              "      <td>...</td>\n",
              "      <td>...</td>\n",
              "      <td>...</td>\n",
              "      <td>...</td>\n",
              "      <td>...</td>\n",
              "      <td>...</td>\n",
              "      <td>...</td>\n",
              "      <td>...</td>\n",
              "      <td>...</td>\n",
              "      <td>...</td>\n",
              "      <td>...</td>\n",
              "      <td>...</td>\n",
              "    </tr>\n",
              "    <tr>\n",
              "      <th>124176</th>\n",
              "      <td>NaN</td>\n",
              "      <td>This Swiss red blend is composed of four varie...</td>\n",
              "      <td>Les Romaines</td>\n",
              "      <td>90</td>\n",
              "      <td>30.0</td>\n",
              "      <td>NaN</td>\n",
              "      <td>NaN</td>\n",
              "      <td>NaN</td>\n",
              "      <td>Jeff Jenssen</td>\n",
              "      <td>@worldwineguys</td>\n",
              "      <td>Les Frères Dutruy 2014 Les Romaines Red</td>\n",
              "      <td>Red Blend</td>\n",
              "      <td>Les Frères Dutruy</td>\n",
              "    </tr>\n",
              "    <tr>\n",
              "      <th>129407</th>\n",
              "      <td>NaN</td>\n",
              "      <td>Dry spicy aromas of dusty plum and tomato add ...</td>\n",
              "      <td>Reserve</td>\n",
              "      <td>89</td>\n",
              "      <td>22.0</td>\n",
              "      <td>NaN</td>\n",
              "      <td>NaN</td>\n",
              "      <td>NaN</td>\n",
              "      <td>Michael Schachner</td>\n",
              "      <td>@wineschach</td>\n",
              "      <td>El Capricho 2015 Reserve Cabernet Sauvignon</td>\n",
              "      <td>Cabernet Sauvignon</td>\n",
              "      <td>El Capricho</td>\n",
              "    </tr>\n",
              "    <tr>\n",
              "      <th>129408</th>\n",
              "      <td>NaN</td>\n",
              "      <td>El Capricho is one of Uruguay's more consisten...</td>\n",
              "      <td>Reserve</td>\n",
              "      <td>89</td>\n",
              "      <td>22.0</td>\n",
              "      <td>NaN</td>\n",
              "      <td>NaN</td>\n",
              "      <td>NaN</td>\n",
              "      <td>Michael Schachner</td>\n",
              "      <td>@wineschach</td>\n",
              "      <td>El Capricho 2015 Reserve Tempranillo</td>\n",
              "      <td>Tempranillo</td>\n",
              "      <td>El Capricho</td>\n",
              "    </tr>\n",
              "    <tr>\n",
              "      <th>129590</th>\n",
              "      <td>NaN</td>\n",
              "      <td>A blend of 60% Syrah, 30% Cabernet Sauvignon a...</td>\n",
              "      <td>Shah</td>\n",
              "      <td>90</td>\n",
              "      <td>30.0</td>\n",
              "      <td>NaN</td>\n",
              "      <td>NaN</td>\n",
              "      <td>NaN</td>\n",
              "      <td>Mike DeSimone</td>\n",
              "      <td>@worldwineguys</td>\n",
              "      <td>Büyülübağ 2012 Shah Red</td>\n",
              "      <td>Red Blend</td>\n",
              "      <td>Büyülübağ</td>\n",
              "    </tr>\n",
              "    <tr>\n",
              "      <th>129900</th>\n",
              "      <td>NaN</td>\n",
              "      <td>This wine offers a delightful bouquet of black...</td>\n",
              "      <td>NaN</td>\n",
              "      <td>91</td>\n",
              "      <td>32.0</td>\n",
              "      <td>NaN</td>\n",
              "      <td>NaN</td>\n",
              "      <td>NaN</td>\n",
              "      <td>Mike DeSimone</td>\n",
              "      <td>@worldwineguys</td>\n",
              "      <td>Psagot 2014 Merlot</td>\n",
              "      <td>Merlot</td>\n",
              "      <td>Psagot</td>\n",
              "    </tr>\n",
              "  </tbody>\n",
              "</table>\n",
              "<p>63 rows × 13 columns</p>\n",
              "</div>"
            ],
            "text/plain": [
              "       country  ...                           winery\n",
              "913        NaN  ...               Gotsa Family Wines\n",
              "3131       NaN  ...                Barton & Guestier\n",
              "4243       NaN  ...  Kakhetia Traditional Winemaking\n",
              "9509       NaN  ...                         Tsililis\n",
              "9750       NaN  ...                         Ross-idi\n",
              "...        ...  ...                              ...\n",
              "124176     NaN  ...                Les Frères Dutruy\n",
              "129407     NaN  ...                      El Capricho\n",
              "129408     NaN  ...                      El Capricho\n",
              "129590     NaN  ...                        Büyülübağ\n",
              "129900     NaN  ...                           Psagot\n",
              "\n",
              "[63 rows x 13 columns]"
            ]
          },
          "metadata": {},
          "execution_count": 22
        }
      ]
    },
    {
      "cell_type": "code",
      "metadata": {
        "colab": {
          "base_uri": "https://localhost:8080/"
        },
        "id": "d-0_H8UeBG-b",
        "outputId": "e2de0771-9731-4c03-fc16-0ea80c0875fc"
      },
      "source": [
        "reviews.region_2.fillna(\"Unknown\")"
      ],
      "execution_count": null,
      "outputs": [
        {
          "output_type": "execute_result",
          "data": {
            "text/plain": [
              "0                   Unknown\n",
              "1                   Unknown\n",
              "2         Willamette Valley\n",
              "3                   Unknown\n",
              "4         Willamette Valley\n",
              "                ...        \n",
              "129966              Unknown\n",
              "129967         Oregon Other\n",
              "129968              Unknown\n",
              "129969              Unknown\n",
              "129970              Unknown\n",
              "Name: region_2, Length: 129971, dtype: object"
            ]
          },
          "metadata": {},
          "execution_count": 23
        }
      ]
    },
    {
      "cell_type": "markdown",
      "metadata": {
        "id": "fQvB-jjrBdjV"
      },
      "source": [
        "Método ```replace()```para substituir valores"
      ]
    },
    {
      "cell_type": "code",
      "metadata": {
        "colab": {
          "base_uri": "https://localhost:8080/"
        },
        "id": "-jbkZ63OBhvD",
        "outputId": "aa9324c7-7ed2-4269-8b46-a0cfd58906f9"
      },
      "source": [
        "reviews.taster_twitter_handle.replace(\"@kerinokeefe\", \"@kerino\")"
      ],
      "execution_count": null,
      "outputs": [
        {
          "output_type": "execute_result",
          "data": {
            "text/plain": [
              "0             @kerino\n",
              "1          @vossroger\n",
              "2         @paulgwine \n",
              "3                 NaN\n",
              "4         @paulgwine \n",
              "             ...     \n",
              "129966            NaN\n",
              "129967    @paulgwine \n",
              "129968     @vossroger\n",
              "129969     @vossroger\n",
              "129970     @vossroger\n",
              "Name: taster_twitter_handle, Length: 129971, dtype: object"
            ]
          },
          "metadata": {},
          "execution_count": 24
        }
      ]
    },
    {
      "cell_type": "code",
      "metadata": {
        "id": "AI1V7QiHBkMj"
      },
      "source": [
        ""
      ],
      "execution_count": null,
      "outputs": []
    },
    {
      "cell_type": "markdown",
      "metadata": {
        "id": "cnzlnKdfBp9M"
      },
      "source": [
        "## **Renomeando e Combinando Valores**"
      ]
    },
    {
      "cell_type": "markdown",
      "metadata": {
        "id": "kBZGWXtWB-ZL"
      },
      "source": [
        "Usando a função ```rename()```para alterar nome da coluna e índices."
      ]
    },
    {
      "cell_type": "code",
      "metadata": {
        "colab": {
          "base_uri": "https://localhost:8080/",
          "height": 1000
        },
        "id": "84Ak9ks8BuAL",
        "outputId": "bb915c2f-fdd5-4fa7-f226-1ab4a92e7fb1"
      },
      "source": [
        "reviews.rename(columns = {'points': 'score'})"
      ],
      "execution_count": null,
      "outputs": [
        {
          "output_type": "execute_result",
          "data": {
            "text/html": [
              "<div>\n",
              "<style scoped>\n",
              "    .dataframe tbody tr th:only-of-type {\n",
              "        vertical-align: middle;\n",
              "    }\n",
              "\n",
              "    .dataframe tbody tr th {\n",
              "        vertical-align: top;\n",
              "    }\n",
              "\n",
              "    .dataframe thead th {\n",
              "        text-align: right;\n",
              "    }\n",
              "</style>\n",
              "<table border=\"1\" class=\"dataframe\">\n",
              "  <thead>\n",
              "    <tr style=\"text-align: right;\">\n",
              "      <th></th>\n",
              "      <th>country</th>\n",
              "      <th>description</th>\n",
              "      <th>designation</th>\n",
              "      <th>score</th>\n",
              "      <th>price</th>\n",
              "      <th>province</th>\n",
              "      <th>region_1</th>\n",
              "      <th>region_2</th>\n",
              "      <th>taster_name</th>\n",
              "      <th>taster_twitter_handle</th>\n",
              "      <th>title</th>\n",
              "      <th>variety</th>\n",
              "      <th>winery</th>\n",
              "    </tr>\n",
              "  </thead>\n",
              "  <tbody>\n",
              "    <tr>\n",
              "      <th>0</th>\n",
              "      <td>Italy</td>\n",
              "      <td>Aromas include tropical fruit, broom, brimston...</td>\n",
              "      <td>Vulkà Bianco</td>\n",
              "      <td>87</td>\n",
              "      <td>NaN</td>\n",
              "      <td>Sicily &amp; Sardinia</td>\n",
              "      <td>Etna</td>\n",
              "      <td>NaN</td>\n",
              "      <td>Kerin O’Keefe</td>\n",
              "      <td>@kerinokeefe</td>\n",
              "      <td>Nicosia 2013 Vulkà Bianco  (Etna)</td>\n",
              "      <td>White Blend</td>\n",
              "      <td>Nicosia</td>\n",
              "    </tr>\n",
              "    <tr>\n",
              "      <th>1</th>\n",
              "      <td>Portugal</td>\n",
              "      <td>This is ripe and fruity, a wine that is smooth...</td>\n",
              "      <td>Avidagos</td>\n",
              "      <td>87</td>\n",
              "      <td>15.0</td>\n",
              "      <td>Douro</td>\n",
              "      <td>NaN</td>\n",
              "      <td>NaN</td>\n",
              "      <td>Roger Voss</td>\n",
              "      <td>@vossroger</td>\n",
              "      <td>Quinta dos Avidagos 2011 Avidagos Red (Douro)</td>\n",
              "      <td>Portuguese Red</td>\n",
              "      <td>Quinta dos Avidagos</td>\n",
              "    </tr>\n",
              "    <tr>\n",
              "      <th>2</th>\n",
              "      <td>US</td>\n",
              "      <td>Tart and snappy, the flavors of lime flesh and...</td>\n",
              "      <td>NaN</td>\n",
              "      <td>87</td>\n",
              "      <td>14.0</td>\n",
              "      <td>Oregon</td>\n",
              "      <td>Willamette Valley</td>\n",
              "      <td>Willamette Valley</td>\n",
              "      <td>Paul Gregutt</td>\n",
              "      <td>@paulgwine</td>\n",
              "      <td>Rainstorm 2013 Pinot Gris (Willamette Valley)</td>\n",
              "      <td>Pinot Gris</td>\n",
              "      <td>Rainstorm</td>\n",
              "    </tr>\n",
              "    <tr>\n",
              "      <th>3</th>\n",
              "      <td>US</td>\n",
              "      <td>Pineapple rind, lemon pith and orange blossom ...</td>\n",
              "      <td>Reserve Late Harvest</td>\n",
              "      <td>87</td>\n",
              "      <td>13.0</td>\n",
              "      <td>Michigan</td>\n",
              "      <td>Lake Michigan Shore</td>\n",
              "      <td>NaN</td>\n",
              "      <td>Alexander Peartree</td>\n",
              "      <td>NaN</td>\n",
              "      <td>St. Julian 2013 Reserve Late Harvest Riesling ...</td>\n",
              "      <td>Riesling</td>\n",
              "      <td>St. Julian</td>\n",
              "    </tr>\n",
              "    <tr>\n",
              "      <th>4</th>\n",
              "      <td>US</td>\n",
              "      <td>Much like the regular bottling from 2012, this...</td>\n",
              "      <td>Vintner's Reserve Wild Child Block</td>\n",
              "      <td>87</td>\n",
              "      <td>65.0</td>\n",
              "      <td>Oregon</td>\n",
              "      <td>Willamette Valley</td>\n",
              "      <td>Willamette Valley</td>\n",
              "      <td>Paul Gregutt</td>\n",
              "      <td>@paulgwine</td>\n",
              "      <td>Sweet Cheeks 2012 Vintner's Reserve Wild Child...</td>\n",
              "      <td>Pinot Noir</td>\n",
              "      <td>Sweet Cheeks</td>\n",
              "    </tr>\n",
              "    <tr>\n",
              "      <th>...</th>\n",
              "      <td>...</td>\n",
              "      <td>...</td>\n",
              "      <td>...</td>\n",
              "      <td>...</td>\n",
              "      <td>...</td>\n",
              "      <td>...</td>\n",
              "      <td>...</td>\n",
              "      <td>...</td>\n",
              "      <td>...</td>\n",
              "      <td>...</td>\n",
              "      <td>...</td>\n",
              "      <td>...</td>\n",
              "      <td>...</td>\n",
              "    </tr>\n",
              "    <tr>\n",
              "      <th>129966</th>\n",
              "      <td>Germany</td>\n",
              "      <td>Notes of honeysuckle and cantaloupe sweeten th...</td>\n",
              "      <td>Brauneberger Juffer-Sonnenuhr Spätlese</td>\n",
              "      <td>90</td>\n",
              "      <td>28.0</td>\n",
              "      <td>Mosel</td>\n",
              "      <td>NaN</td>\n",
              "      <td>NaN</td>\n",
              "      <td>Anna Lee C. Iijima</td>\n",
              "      <td>NaN</td>\n",
              "      <td>Dr. H. Thanisch (Erben Müller-Burggraef) 2013 ...</td>\n",
              "      <td>Riesling</td>\n",
              "      <td>Dr. H. Thanisch (Erben Müller-Burggraef)</td>\n",
              "    </tr>\n",
              "    <tr>\n",
              "      <th>129967</th>\n",
              "      <td>US</td>\n",
              "      <td>Citation is given as much as a decade of bottl...</td>\n",
              "      <td>NaN</td>\n",
              "      <td>90</td>\n",
              "      <td>75.0</td>\n",
              "      <td>Oregon</td>\n",
              "      <td>Oregon</td>\n",
              "      <td>Oregon Other</td>\n",
              "      <td>Paul Gregutt</td>\n",
              "      <td>@paulgwine</td>\n",
              "      <td>Citation 2004 Pinot Noir (Oregon)</td>\n",
              "      <td>Pinot Noir</td>\n",
              "      <td>Citation</td>\n",
              "    </tr>\n",
              "    <tr>\n",
              "      <th>129968</th>\n",
              "      <td>France</td>\n",
              "      <td>Well-drained gravel soil gives this wine its c...</td>\n",
              "      <td>Kritt</td>\n",
              "      <td>90</td>\n",
              "      <td>30.0</td>\n",
              "      <td>Alsace</td>\n",
              "      <td>Alsace</td>\n",
              "      <td>NaN</td>\n",
              "      <td>Roger Voss</td>\n",
              "      <td>@vossroger</td>\n",
              "      <td>Domaine Gresser 2013 Kritt Gewurztraminer (Als...</td>\n",
              "      <td>Gewürztraminer</td>\n",
              "      <td>Domaine Gresser</td>\n",
              "    </tr>\n",
              "    <tr>\n",
              "      <th>129969</th>\n",
              "      <td>France</td>\n",
              "      <td>A dry style of Pinot Gris, this is crisp with ...</td>\n",
              "      <td>NaN</td>\n",
              "      <td>90</td>\n",
              "      <td>32.0</td>\n",
              "      <td>Alsace</td>\n",
              "      <td>Alsace</td>\n",
              "      <td>NaN</td>\n",
              "      <td>Roger Voss</td>\n",
              "      <td>@vossroger</td>\n",
              "      <td>Domaine Marcel Deiss 2012 Pinot Gris (Alsace)</td>\n",
              "      <td>Pinot Gris</td>\n",
              "      <td>Domaine Marcel Deiss</td>\n",
              "    </tr>\n",
              "    <tr>\n",
              "      <th>129970</th>\n",
              "      <td>France</td>\n",
              "      <td>Big, rich and off-dry, this is powered by inte...</td>\n",
              "      <td>Lieu-dit Harth Cuvée Caroline</td>\n",
              "      <td>90</td>\n",
              "      <td>21.0</td>\n",
              "      <td>Alsace</td>\n",
              "      <td>Alsace</td>\n",
              "      <td>NaN</td>\n",
              "      <td>Roger Voss</td>\n",
              "      <td>@vossroger</td>\n",
              "      <td>Domaine Schoffit 2012 Lieu-dit Harth Cuvée Car...</td>\n",
              "      <td>Gewürztraminer</td>\n",
              "      <td>Domaine Schoffit</td>\n",
              "    </tr>\n",
              "  </tbody>\n",
              "</table>\n",
              "<p>129971 rows × 13 columns</p>\n",
              "</div>"
            ],
            "text/plain": [
              "         country  ...                                    winery\n",
              "0          Italy  ...                                   Nicosia\n",
              "1       Portugal  ...                       Quinta dos Avidagos\n",
              "2             US  ...                                 Rainstorm\n",
              "3             US  ...                                St. Julian\n",
              "4             US  ...                              Sweet Cheeks\n",
              "...          ...  ...                                       ...\n",
              "129966   Germany  ...  Dr. H. Thanisch (Erben Müller-Burggraef)\n",
              "129967        US  ...                                  Citation\n",
              "129968    France  ...                           Domaine Gresser\n",
              "129969    France  ...                      Domaine Marcel Deiss\n",
              "129970    France  ...                          Domaine Schoffit\n",
              "\n",
              "[129971 rows x 13 columns]"
            ]
          },
          "metadata": {},
          "execution_count": 25
        }
      ]
    },
    {
      "cell_type": "code",
      "metadata": {
        "id": "AtgJsF6FCNTb"
      },
      "source": [
        "reviews.rename(index={0: 'firstEntry', 1: 'secondEntry'})"
      ],
      "execution_count": null,
      "outputs": []
    },
    {
      "cell_type": "code",
      "metadata": {
        "colab": {
          "base_uri": "https://localhost:8080/",
          "height": 1000
        },
        "id": "rE4_fMRGCUL0",
        "outputId": "3fedccf7-fbaa-4862-bfee-c4522f3a0f94"
      },
      "source": [
        "reviews.rename_axis(\"wines\", axis='rows').rename_axis(\"fields\", axis='columns')"
      ],
      "execution_count": null,
      "outputs": [
        {
          "output_type": "execute_result",
          "data": {
            "text/html": [
              "<div>\n",
              "<style scoped>\n",
              "    .dataframe tbody tr th:only-of-type {\n",
              "        vertical-align: middle;\n",
              "    }\n",
              "\n",
              "    .dataframe tbody tr th {\n",
              "        vertical-align: top;\n",
              "    }\n",
              "\n",
              "    .dataframe thead th {\n",
              "        text-align: right;\n",
              "    }\n",
              "</style>\n",
              "<table border=\"1\" class=\"dataframe\">\n",
              "  <thead>\n",
              "    <tr style=\"text-align: right;\">\n",
              "      <th>fields</th>\n",
              "      <th>country</th>\n",
              "      <th>description</th>\n",
              "      <th>designation</th>\n",
              "      <th>points</th>\n",
              "      <th>price</th>\n",
              "      <th>province</th>\n",
              "      <th>region_1</th>\n",
              "      <th>region_2</th>\n",
              "      <th>taster_name</th>\n",
              "      <th>taster_twitter_handle</th>\n",
              "      <th>title</th>\n",
              "      <th>variety</th>\n",
              "      <th>winery</th>\n",
              "    </tr>\n",
              "    <tr>\n",
              "      <th>wines</th>\n",
              "      <th></th>\n",
              "      <th></th>\n",
              "      <th></th>\n",
              "      <th></th>\n",
              "      <th></th>\n",
              "      <th></th>\n",
              "      <th></th>\n",
              "      <th></th>\n",
              "      <th></th>\n",
              "      <th></th>\n",
              "      <th></th>\n",
              "      <th></th>\n",
              "      <th></th>\n",
              "    </tr>\n",
              "  </thead>\n",
              "  <tbody>\n",
              "    <tr>\n",
              "      <th>0</th>\n",
              "      <td>Italy</td>\n",
              "      <td>Aromas include tropical fruit, broom, brimston...</td>\n",
              "      <td>Vulkà Bianco</td>\n",
              "      <td>87</td>\n",
              "      <td>NaN</td>\n",
              "      <td>Sicily &amp; Sardinia</td>\n",
              "      <td>Etna</td>\n",
              "      <td>NaN</td>\n",
              "      <td>Kerin O’Keefe</td>\n",
              "      <td>@kerinokeefe</td>\n",
              "      <td>Nicosia 2013 Vulkà Bianco  (Etna)</td>\n",
              "      <td>White Blend</td>\n",
              "      <td>Nicosia</td>\n",
              "    </tr>\n",
              "    <tr>\n",
              "      <th>1</th>\n",
              "      <td>Portugal</td>\n",
              "      <td>This is ripe and fruity, a wine that is smooth...</td>\n",
              "      <td>Avidagos</td>\n",
              "      <td>87</td>\n",
              "      <td>15.0</td>\n",
              "      <td>Douro</td>\n",
              "      <td>NaN</td>\n",
              "      <td>NaN</td>\n",
              "      <td>Roger Voss</td>\n",
              "      <td>@vossroger</td>\n",
              "      <td>Quinta dos Avidagos 2011 Avidagos Red (Douro)</td>\n",
              "      <td>Portuguese Red</td>\n",
              "      <td>Quinta dos Avidagos</td>\n",
              "    </tr>\n",
              "    <tr>\n",
              "      <th>2</th>\n",
              "      <td>US</td>\n",
              "      <td>Tart and snappy, the flavors of lime flesh and...</td>\n",
              "      <td>NaN</td>\n",
              "      <td>87</td>\n",
              "      <td>14.0</td>\n",
              "      <td>Oregon</td>\n",
              "      <td>Willamette Valley</td>\n",
              "      <td>Willamette Valley</td>\n",
              "      <td>Paul Gregutt</td>\n",
              "      <td>@paulgwine</td>\n",
              "      <td>Rainstorm 2013 Pinot Gris (Willamette Valley)</td>\n",
              "      <td>Pinot Gris</td>\n",
              "      <td>Rainstorm</td>\n",
              "    </tr>\n",
              "    <tr>\n",
              "      <th>3</th>\n",
              "      <td>US</td>\n",
              "      <td>Pineapple rind, lemon pith and orange blossom ...</td>\n",
              "      <td>Reserve Late Harvest</td>\n",
              "      <td>87</td>\n",
              "      <td>13.0</td>\n",
              "      <td>Michigan</td>\n",
              "      <td>Lake Michigan Shore</td>\n",
              "      <td>NaN</td>\n",
              "      <td>Alexander Peartree</td>\n",
              "      <td>NaN</td>\n",
              "      <td>St. Julian 2013 Reserve Late Harvest Riesling ...</td>\n",
              "      <td>Riesling</td>\n",
              "      <td>St. Julian</td>\n",
              "    </tr>\n",
              "    <tr>\n",
              "      <th>4</th>\n",
              "      <td>US</td>\n",
              "      <td>Much like the regular bottling from 2012, this...</td>\n",
              "      <td>Vintner's Reserve Wild Child Block</td>\n",
              "      <td>87</td>\n",
              "      <td>65.0</td>\n",
              "      <td>Oregon</td>\n",
              "      <td>Willamette Valley</td>\n",
              "      <td>Willamette Valley</td>\n",
              "      <td>Paul Gregutt</td>\n",
              "      <td>@paulgwine</td>\n",
              "      <td>Sweet Cheeks 2012 Vintner's Reserve Wild Child...</td>\n",
              "      <td>Pinot Noir</td>\n",
              "      <td>Sweet Cheeks</td>\n",
              "    </tr>\n",
              "    <tr>\n",
              "      <th>...</th>\n",
              "      <td>...</td>\n",
              "      <td>...</td>\n",
              "      <td>...</td>\n",
              "      <td>...</td>\n",
              "      <td>...</td>\n",
              "      <td>...</td>\n",
              "      <td>...</td>\n",
              "      <td>...</td>\n",
              "      <td>...</td>\n",
              "      <td>...</td>\n",
              "      <td>...</td>\n",
              "      <td>...</td>\n",
              "      <td>...</td>\n",
              "    </tr>\n",
              "    <tr>\n",
              "      <th>129966</th>\n",
              "      <td>Germany</td>\n",
              "      <td>Notes of honeysuckle and cantaloupe sweeten th...</td>\n",
              "      <td>Brauneberger Juffer-Sonnenuhr Spätlese</td>\n",
              "      <td>90</td>\n",
              "      <td>28.0</td>\n",
              "      <td>Mosel</td>\n",
              "      <td>NaN</td>\n",
              "      <td>NaN</td>\n",
              "      <td>Anna Lee C. Iijima</td>\n",
              "      <td>NaN</td>\n",
              "      <td>Dr. H. Thanisch (Erben Müller-Burggraef) 2013 ...</td>\n",
              "      <td>Riesling</td>\n",
              "      <td>Dr. H. Thanisch (Erben Müller-Burggraef)</td>\n",
              "    </tr>\n",
              "    <tr>\n",
              "      <th>129967</th>\n",
              "      <td>US</td>\n",
              "      <td>Citation is given as much as a decade of bottl...</td>\n",
              "      <td>NaN</td>\n",
              "      <td>90</td>\n",
              "      <td>75.0</td>\n",
              "      <td>Oregon</td>\n",
              "      <td>Oregon</td>\n",
              "      <td>Oregon Other</td>\n",
              "      <td>Paul Gregutt</td>\n",
              "      <td>@paulgwine</td>\n",
              "      <td>Citation 2004 Pinot Noir (Oregon)</td>\n",
              "      <td>Pinot Noir</td>\n",
              "      <td>Citation</td>\n",
              "    </tr>\n",
              "    <tr>\n",
              "      <th>129968</th>\n",
              "      <td>France</td>\n",
              "      <td>Well-drained gravel soil gives this wine its c...</td>\n",
              "      <td>Kritt</td>\n",
              "      <td>90</td>\n",
              "      <td>30.0</td>\n",
              "      <td>Alsace</td>\n",
              "      <td>Alsace</td>\n",
              "      <td>NaN</td>\n",
              "      <td>Roger Voss</td>\n",
              "      <td>@vossroger</td>\n",
              "      <td>Domaine Gresser 2013 Kritt Gewurztraminer (Als...</td>\n",
              "      <td>Gewürztraminer</td>\n",
              "      <td>Domaine Gresser</td>\n",
              "    </tr>\n",
              "    <tr>\n",
              "      <th>129969</th>\n",
              "      <td>France</td>\n",
              "      <td>A dry style of Pinot Gris, this is crisp with ...</td>\n",
              "      <td>NaN</td>\n",
              "      <td>90</td>\n",
              "      <td>32.0</td>\n",
              "      <td>Alsace</td>\n",
              "      <td>Alsace</td>\n",
              "      <td>NaN</td>\n",
              "      <td>Roger Voss</td>\n",
              "      <td>@vossroger</td>\n",
              "      <td>Domaine Marcel Deiss 2012 Pinot Gris (Alsace)</td>\n",
              "      <td>Pinot Gris</td>\n",
              "      <td>Domaine Marcel Deiss</td>\n",
              "    </tr>\n",
              "    <tr>\n",
              "      <th>129970</th>\n",
              "      <td>France</td>\n",
              "      <td>Big, rich and off-dry, this is powered by inte...</td>\n",
              "      <td>Lieu-dit Harth Cuvée Caroline</td>\n",
              "      <td>90</td>\n",
              "      <td>21.0</td>\n",
              "      <td>Alsace</td>\n",
              "      <td>Alsace</td>\n",
              "      <td>NaN</td>\n",
              "      <td>Roger Voss</td>\n",
              "      <td>@vossroger</td>\n",
              "      <td>Domaine Schoffit 2012 Lieu-dit Harth Cuvée Car...</td>\n",
              "      <td>Gewürztraminer</td>\n",
              "      <td>Domaine Schoffit</td>\n",
              "    </tr>\n",
              "  </tbody>\n",
              "</table>\n",
              "<p>129971 rows × 13 columns</p>\n",
              "</div>"
            ],
            "text/plain": [
              "fields   country  ...                                    winery\n",
              "wines             ...                                          \n",
              "0          Italy  ...                                   Nicosia\n",
              "1       Portugal  ...                       Quinta dos Avidagos\n",
              "2             US  ...                                 Rainstorm\n",
              "3             US  ...                                St. Julian\n",
              "4             US  ...                              Sweet Cheeks\n",
              "...          ...  ...                                       ...\n",
              "129966   Germany  ...  Dr. H. Thanisch (Erben Müller-Burggraef)\n",
              "129967        US  ...                                  Citation\n",
              "129968    France  ...                           Domaine Gresser\n",
              "129969    France  ...                      Domaine Marcel Deiss\n",
              "129970    France  ...                          Domaine Schoffit\n",
              "\n",
              "[129971 rows x 13 columns]"
            ]
          },
          "metadata": {},
          "execution_count": 26
        }
      ]
    },
    {
      "cell_type": "markdown",
      "metadata": {
        "id": "kvh471JGCpzZ"
      },
      "source": [
        "Usando o método ```join()```,```merge()```,```concatenate()```, para fazer combinações"
      ]
    },
    {
      "cell_type": "code",
      "metadata": {
        "id": "Z_IVjIi7Cm2T"
      },
      "source": [
        ""
      ],
      "execution_count": null,
      "outputs": []
    }
  ]
}